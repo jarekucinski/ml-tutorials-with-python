{
 "cells": [
  {
   "cell_type": "code",
   "execution_count": 20,
   "source": [
    "# Import the data\r\n",
    "import pandas as pd\r\n",
    "from sklearn.tree import DecisionTreeClassifier\r\n",
    "from sklearn.model_selection import train_test_split\r\n",
    "from sklearn.metrics import accuracy_score\r\n",
    "\r\n",
    "music_data = pd.read_csv('music.csv')\r\n",
    "\r\n",
    "# Clean the data\r\n",
    "\r\n",
    "# Split the data into training/test sets\r\n",
    "X = music_data.drop(columns=['genre'])\r\n",
    "y = music_data['genre']\r\n",
    "X_train, X_test, y_train, y_test = train_test_split(X, y, test_size=0.2)\r\n",
    "\r\n",
    "# Create model\r\n",
    "model = DecisionTreeClassifier()\r\n",
    "\r\n",
    "# Train the model\r\n",
    "model.fit(X_train, y_train)\r\n",
    "\r\n",
    "# Make predictions\r\n",
    "predictions = model.predict(X_test)\r\n",
    "\r\n",
    "# Evaluate and improve\r\n",
    "score = accuracy_score(y_test, predictions)"
   ],
   "outputs": [
    {
     "output_type": "execute_result",
     "data": {
      "text/plain": [
       "0.5"
      ]
     },
     "metadata": {},
     "execution_count": 20
    }
   ],
   "metadata": {}
  },
  {
   "cell_type": "code",
   "execution_count": 22,
   "source": [
    "# Save model\r\n",
    "import joblib\r\n",
    "\r\n",
    "joblib.dump(model, 'music-recommender.joblib')"
   ],
   "outputs": [
    {
     "output_type": "execute_result",
     "data": {
      "text/plain": [
       "['music-recommender.joblib']"
      ]
     },
     "metadata": {},
     "execution_count": 22
    }
   ],
   "metadata": {}
  },
  {
   "cell_type": "code",
   "execution_count": null,
   "source": [
    "# Load model\r\n",
    "savedModel = joblib.load('music-recommender.joblib')"
   ],
   "outputs": [],
   "metadata": {}
  },
  {
   "cell_type": "code",
   "execution_count": null,
   "source": [
    "from sklearn import tree\r\n",
    "\r\n",
    "tree.export_graphviz(savedModel, out_file='music-recommender.dot', feature_names=['age', 'gender'], class_names=sorted(y.unique()), label='all', rounded=True, filled=True)"
   ],
   "outputs": [],
   "metadata": {}
  }
 ],
 "metadata": {
  "orig_nbformat": 4,
  "language_info": {
   "name": "python",
   "version": "3.7.10",
   "mimetype": "text/x-python",
   "codemirror_mode": {
    "name": "ipython",
    "version": 3
   },
   "pygments_lexer": "ipython3",
   "nbconvert_exporter": "python",
   "file_extension": ".py"
  },
  "kernelspec": {
   "name": "python3",
   "display_name": "Python 3.7.10 64-bit ('mlenv': conda)"
  },
  "interpreter": {
   "hash": "b02b773dc33bf9d868a43ec32b39d0b9f30e7c93dbc06b21fed9d439886d3d14"
  }
 },
 "nbformat": 4,
 "nbformat_minor": 2
}